{
 "cells": [
  {
   "cell_type": "code",
   "execution_count": 22,
   "metadata": {},
   "outputs": [
    {
     "name": "stdout",
     "output_type": "stream",
     "text": [
      "Number of pages in the PDF: 1\n"
     ]
    },
    {
     "data": {
      "text/plain": [
       "\"KHALSS YASSINE\\nyassinekh007007@gmail.com +212 6 27 68 92 95 Casablanca, MOROCCO\\ngithub.com/YASSINEKS007 https://khalss-yassine-portfolio-website.vercel.app/\\nPROFILE\\nI'm a student with a passion for artificial intelligence and machine learning, currently in my first year of a\\nmaster's degree in distributed systems and artificial intelligence at ENSET Mohammedia. Thanks to my\\ncourses and academic projects, I have acquired solid skills in programming and data analysis. I'm keen to\\napply and further develop these skills in a stimulating professional environment.\\nEXPERIENCES\\nInternship 04/2023 – 05/2023\\nNational Electricity and Drinking Water Board (ONEE)\\nAs part of my final year project,I did a two-month internship at ONEE, where I\\ndesigned and developed a web application for the company's fuel management\\nsystem.\\nEDUCATION\\nMaster in Distributed Systems and ArtificialIntelligence (SDIA) 09/2023 – 06/2025\\nEcole normale supérieure de l'enseignement technique(ENSET) Mohammedia,\\nMOROCCO\\nBachelor's degree in Computer Science and Technology - Networks and 09/2020 – 06/2023\\nMultimedia (IRM) Mohammedia,\\nFaculté de Sciences et Techniques (FST) MOROCCO\\nPROJECTS\\nWater quality monitoring system\\nI created and developed a machine learning model that predicts and classifies water quality. The model uses\\nSupport Vector Regression (SVR), with React.js for the frontend and Flask for the backend.\\nMovie recommendation system\\nI set up a movie recommendation system based on collaborative filtering, using React.js for the frontend,\\nDjango for the backend, and PostgreSQL for the database.\\nWeb application for social media\\nI designed and developed a web application for social media using the MERN stack (MongoDB, Express.js,\\nReact.js, Node.js).\\n2D fighting game\\nIn collaboration with a friend,I designed and developed a 2D fighting game using Java's LibGDX framework.\\nSKILLS\\nProgramming Languages: Python, Java, C, HTML, CSS, JavaScript\\n•\\nBackend Frameworks: Django, Spring Boot, Express.js\\n•\\nFrontend Frameworks: React.js, Angular\\n•\\nDatabases: MySQL, PostgreSQL, MongoDB\\n•\\nLANGUAGES\\nFrench English\\nTCF: B2\\nArabic\\n\""
      ]
     },
     "execution_count": 22,
     "metadata": {},
     "output_type": "execute_result"
    }
   ],
   "source": [
    "from langchain_community.document_loaders import PDFPlumberLoader\n",
    "loader = PDFPlumberLoader(\"./pdfs/cv.pdf\")\n",
    "docs = loader.load()\n",
    "\n",
    "# Check the number of pages\n",
    "print(\"Number of pages in the PDF:\",len(docs))\n",
    "\n",
    "# Load the random page content\n",
    "docs[0].page_content"
   ]
  },
  {
   "cell_type": "code",
   "execution_count": 23,
   "metadata": {},
   "outputs": [],
   "source": [
    "from langchain_experimental.text_splitter import SemanticChunker\n",
    "from langchain.embeddings import HuggingFaceEmbeddings\n",
    "\n",
    "text_splitter = SemanticChunker(HuggingFaceEmbeddings())\n",
    "documents = text_splitter.split_documents(docs)"
   ]
  },
  {
   "cell_type": "code",
   "execution_count": 24,
   "metadata": {},
   "outputs": [
    {
     "name": "stdout",
     "output_type": "stream",
     "text": [
      "Number of chunks created:  2\n"
     ]
    }
   ],
   "source": [
    "print(\"Number of chunks created: \", len(documents))"
   ]
  },
  {
   "cell_type": "code",
   "execution_count": 25,
   "metadata": {},
   "outputs": [],
   "source": [
    "from langchain_community.embeddings import HuggingFaceEmbeddings\n",
    "from langchain_community.vectorstores import FAISS\n",
    "\n",
    "# Instantiate the embedding model\n",
    "embedder = HuggingFaceEmbeddings()\n",
    "\n",
    "# Create the vector store \n",
    "vector = FAISS.from_documents(documents, embedder)"
   ]
  },
  {
   "cell_type": "code",
   "execution_count": 26,
   "metadata": {},
   "outputs": [],
   "source": [
    "retriever = vector.as_retriever(search_type=\"similarity\", search_kwargs={\"k\": 3})\n",
    "retrieved_docs = retriever.invoke(\"education?\")"
   ]
  },
  {
   "cell_type": "code",
   "execution_count": 27,
   "metadata": {},
   "outputs": [
    {
     "data": {
      "text/plain": [
       "[Document(page_content=\"KHALSS YASSINE\\nyassinekh007007@gmail.com +212 6 27 68 92 95 Casablanca, MOROCCO\\ngithub.com/YASSINEKS007 https://khalss-yassine-portfolio-website.vercel.app/\\nPROFILE\\nI'm a student with a passion for artificial intelligence and machine learning, currently in my first year of a\\nmaster's degree in distributed systems and artificial intelligence at ENSET Mohammedia. Thanks to my\\ncourses and academic projects, I have acquired solid skills in programming and data analysis. I'm keen to\\napply and further develop these skills in a stimulating professional environment. EXPERIENCES\\nInternship 04/2023 – 05/2023\\nNational Electricity and Drinking Water Board (ONEE)\\nAs part of my final year project,I did a two-month internship at ONEE, where I\\ndesigned and developed a web application for the company's fuel management\\nsystem. EDUCATION\\nMaster in Distributed Systems and ArtificialIntelligence (SDIA) 09/2023 – 06/2025\\nEcole normale supérieure de l'enseignement technique(ENSET) Mohammedia,\\nMOROCCO\\nBachelor's degree in Computer Science and Technology - Networks and 09/2020 – 06/2023\\nMultimedia (IRM) Mohammedia,\\nFaculté de Sciences et Techniques (FST) MOROCCO\\nPROJECTS\\nWater quality monitoring system\\nI created and developed a machine learning model that predicts and classifies water quality.\", metadata={'source': './pdfs/cv.pdf', 'file_path': './pdfs/cv.pdf', 'page': 0, 'total_pages': 1, 'Creator': 'FlowCV - https://flowcv.com', 'Producer': 'Skia/PDF m121', 'CreationDate': \"D:20240817114828+00'00'\", 'ModDate': \"D:20240817114828+00'00'\", 'Keywords': 'Free Online Resume Builder, FlowCV - https://flowcv.com'}),\n",
       " Document(page_content=\"The model uses\\nSupport Vector Regression (SVR), with React.js for the frontend and Flask for the backend. Movie recommendation system\\nI set up a movie recommendation system based on collaborative filtering, using React.js for the frontend,\\nDjango for the backend, and PostgreSQL for the database. Web application for social media\\nI designed and developed a web application for social media using the MERN stack (MongoDB, Express.js,\\nReact.js, Node.js). 2D fighting game\\nIn collaboration with a friend,I designed and developed a 2D fighting game using Java's LibGDX framework. SKILLS\\nProgramming Languages: Python, Java, C, HTML, CSS, JavaScript\\n•\\nBackend Frameworks: Django, Spring Boot, Express.js\\n•\\nFrontend Frameworks: React.js, Angular\\n•\\nDatabases: MySQL, PostgreSQL, MongoDB\\n•\\nLANGUAGES\\nFrench English\\nTCF: B2\\nArabic\\n\", metadata={'source': './pdfs/cv.pdf', 'file_path': './pdfs/cv.pdf', 'page': 0, 'total_pages': 1, 'Creator': 'FlowCV - https://flowcv.com', 'Producer': 'Skia/PDF m121', 'CreationDate': \"D:20240817114828+00'00'\", 'ModDate': \"D:20240817114828+00'00'\", 'Keywords': 'Free Online Resume Builder, FlowCV - https://flowcv.com'})]"
      ]
     },
     "execution_count": 27,
     "metadata": {},
     "output_type": "execute_result"
    }
   ],
   "source": [
    "retrieved_docs"
   ]
  },
  {
   "cell_type": "code",
   "execution_count": 28,
   "metadata": {},
   "outputs": [
    {
     "data": {
      "text/plain": [
       "2"
      ]
     },
     "execution_count": 28,
     "metadata": {},
     "output_type": "execute_result"
    }
   ],
   "source": [
    "len(documents)"
   ]
  },
  {
   "cell_type": "code",
   "execution_count": 29,
   "metadata": {},
   "outputs": [],
   "source": [
    "from langchain_community.llms import Ollama\n",
    "\n",
    "# Define llm\n",
    "llm = Ollama(model=\"mistral\")"
   ]
  },
  {
   "cell_type": "code",
   "execution_count": 30,
   "metadata": {},
   "outputs": [],
   "source": [
    "from langchain.chains import RetrievalQA\n",
    "from langchain.chains.llm import LLMChain\n",
    "from langchain.chains.combine_documents.stuff import StuffDocumentsChain\n",
    "from langchain.prompts import PromptTemplate\n",
    "\n",
    "prompt = \"\"\"\n",
    "1. Use the following pieces of context to answer the question at the end.\n",
    "2. If you don't know the answer, just say that \"I don't know\" but don't make up an answer on your own.\\n\n",
    "3. Keep the answer crisp and limited to 3,4 sentences.\n",
    "\n",
    "Context: {context}\n",
    "\n",
    "Question: {question}\n",
    "\n",
    "Helpful Answer:\"\"\"\n",
    "\n",
    "\n",
    "QA_CHAIN_PROMPT = PromptTemplate.from_template(prompt) \n",
    "\n",
    "llm_chain = LLMChain(\n",
    "                  llm=llm, \n",
    "                  prompt=QA_CHAIN_PROMPT, \n",
    "                  callbacks=None, \n",
    "                  verbose=False)\n",
    "\n",
    "document_prompt = PromptTemplate(\n",
    "    input_variables=[\"page_content\", \"source\"],\n",
    "    template=\"Context:\\ncontent:{page_content}\\nsource:{source}\",\n",
    ")\n",
    "\n",
    "combine_documents_chain = StuffDocumentsChain(\n",
    "                  llm_chain=llm_chain,\n",
    "                  document_variable_name=\"context\",\n",
    "                  document_prompt=document_prompt,\n",
    "                  callbacks=None,\n",
    "                  verbose=False\n",
    "              )\n",
    "\n",
    "qa = RetrievalQA(\n",
    "                  combine_documents_chain=combine_documents_chain,\n",
    "                  verbose=False,\n",
    "                  retriever=retriever,\n",
    "                  return_source_documents=False,\n",
    "              )"
   ]
  },
  {
   "cell_type": "code",
   "execution_count": 31,
   "metadata": {},
   "outputs": [
    {
     "name": "stdout",
     "output_type": "stream",
     "text": [
      "Answer:  The candidate is familiar with Backend Frameworks such as Django, Spring Boot, and Express.js, and Frontend Frameworks including React.js and Angular.\n"
     ]
    }
   ],
   "source": [
    "question = \"What are the frameworks this candidat knows\"\n",
    "response = qa({\"query\": question})\n",
    "answer = response.get('result', 'No answer found')\n",
    "print(\"Answer:\", answer)\n"
   ]
  },
  {
   "cell_type": "code",
   "execution_count": null,
   "metadata": {},
   "outputs": [],
   "source": []
  }
 ],
 "metadata": {
  "kernelspec": {
   "display_name": "venv",
   "language": "python",
   "name": "python3"
  },
  "language_info": {
   "codemirror_mode": {
    "name": "ipython",
    "version": 3
   },
   "file_extension": ".py",
   "mimetype": "text/x-python",
   "name": "python",
   "nbconvert_exporter": "python",
   "pygments_lexer": "ipython3",
   "version": "3.12.5"
  }
 },
 "nbformat": 4,
 "nbformat_minor": 2
}
